{
 "cells": [
  {
   "cell_type": "markdown",
   "id": "2251a119",
   "metadata": {},
   "source": [
    "- We will have another simple example on two sample t test (pooled- when the variances are equal). But this time this is a one sided t-test\n",
    "\n",
    "- In a packing plant, a machine packs cartons with jars. It is supposed that a new machine will pack faster on the average than the machine currently used. To test that hypothesis, the times it takes each machine to pack ten cartons are recorded. The results, in seconds, are shown in the tables in the file files_for_lab/machine.txt. Assume that there is sufficient evidence to conduct the t test, does the data provide sufficient evidence to show if one machine is better than the other"
   ]
  },
  {
   "cell_type": "code",
   "execution_count": 33,
   "id": "5c1bd9da",
   "metadata": {},
   "outputs": [],
   "source": [
    "#import library \n",
    "import pandas as pd\n",
    "import numpy as np\n",
    "from scipy.stats import t\n"
   ]
  },
  {
   "cell_type": "code",
   "execution_count": 6,
   "id": "365274b5",
   "metadata": {},
   "outputs": [
    {
     "data": {
      "text/html": [
       "<div>\n",
       "<style scoped>\n",
       "    .dataframe tbody tr th:only-of-type {\n",
       "        vertical-align: middle;\n",
       "    }\n",
       "\n",
       "    .dataframe tbody tr th {\n",
       "        vertical-align: top;\n",
       "    }\n",
       "\n",
       "    .dataframe thead th {\n",
       "        text-align: right;\n",
       "    }\n",
       "</style>\n",
       "<table border=\"1\" class=\"dataframe\">\n",
       "  <thead>\n",
       "    <tr style=\"text-align: right;\">\n",
       "      <th></th>\n",
       "      <th>New machine</th>\n",
       "      <th>Old machine</th>\n",
       "    </tr>\n",
       "  </thead>\n",
       "  <tbody>\n",
       "    <tr>\n",
       "      <th>0</th>\n",
       "      <td>42.1</td>\n",
       "      <td>42.7</td>\n",
       "    </tr>\n",
       "    <tr>\n",
       "      <th>1</th>\n",
       "      <td>41.0</td>\n",
       "      <td>43.6</td>\n",
       "    </tr>\n",
       "    <tr>\n",
       "      <th>2</th>\n",
       "      <td>41.3</td>\n",
       "      <td>43.8</td>\n",
       "    </tr>\n",
       "    <tr>\n",
       "      <th>3</th>\n",
       "      <td>41.8</td>\n",
       "      <td>43.3</td>\n",
       "    </tr>\n",
       "    <tr>\n",
       "      <th>4</th>\n",
       "      <td>42.4</td>\n",
       "      <td>42.5</td>\n",
       "    </tr>\n",
       "    <tr>\n",
       "      <th>5</th>\n",
       "      <td>42.8</td>\n",
       "      <td>43.5</td>\n",
       "    </tr>\n",
       "    <tr>\n",
       "      <th>6</th>\n",
       "      <td>43.2</td>\n",
       "      <td>43.1</td>\n",
       "    </tr>\n",
       "    <tr>\n",
       "      <th>7</th>\n",
       "      <td>42.3</td>\n",
       "      <td>41.7</td>\n",
       "    </tr>\n",
       "    <tr>\n",
       "      <th>8</th>\n",
       "      <td>41.8</td>\n",
       "      <td>44.0</td>\n",
       "    </tr>\n",
       "    <tr>\n",
       "      <th>9</th>\n",
       "      <td>42.7</td>\n",
       "      <td>44.1</td>\n",
       "    </tr>\n",
       "  </tbody>\n",
       "</table>\n",
       "</div>"
      ],
      "text/plain": [
       "   New machine      Old machine\n",
       "0         42.1             42.7\n",
       "1         41.0             43.6\n",
       "2         41.3             43.8\n",
       "3         41.8             43.3\n",
       "4         42.4             42.5\n",
       "5         42.8             43.5\n",
       "6         43.2             43.1\n",
       "7         42.3             41.7\n",
       "8         41.8             44.0\n",
       "9         42.7             44.1"
      ]
     },
     "execution_count": 6,
     "metadata": {},
     "output_type": "execute_result"
    }
   ],
   "source": [
    "data = pd.read_excel('machine.xlsx')\n",
    "data"
   ]
  },
  {
   "cell_type": "code",
   "execution_count": 24,
   "id": "7ab75ba4",
   "metadata": {},
   "outputs": [],
   "source": [
    "data = data.rename(columns={\"    Old machine\": \"Old machine\"})"
   ]
  },
  {
   "cell_type": "markdown",
   "id": "c823debd",
   "metadata": {},
   "source": [
    "First, we need to set the hypothesis:\n",
    "- H0: New machine on the average will pack as fast as the old one \n",
    "- Ha: New machine will pack faster on the average than the old one (the average speed new < the average speed old)\n",
    "\n",
    "Use the left-tailed test\n",
    "\n",
    "Second, we will set the signifiance level, α = 0.05. \n",
    "If p<=α, we will reject H0. "
   ]
  },
  {
   "cell_type": "code",
   "execution_count": 25,
   "id": "43a8a8e4",
   "metadata": {},
   "outputs": [],
   "source": [
    "#calculate mean value \n",
    "avg_new = data['New machine'].mean()\n",
    "avg_old = data['Old machine'].mean()"
   ]
  },
  {
   "cell_type": "code",
   "execution_count": 26,
   "id": "922a320d",
   "metadata": {},
   "outputs": [],
   "source": [
    "#calculate standard variations \n",
    "std_new = data['New machine'].std()\n",
    "std_old = data['Old machine'].std()"
   ]
  },
  {
   "cell_type": "code",
   "execution_count": 27,
   "id": "ef0bf69b",
   "metadata": {},
   "outputs": [],
   "source": [
    "n = data['Old machine'].count()"
   ]
  },
  {
   "cell_type": "code",
   "execution_count": 42,
   "id": "02542e75",
   "metadata": {},
   "outputs": [],
   "source": [
    "numerator = avg_new - avg_old\n",
    "denominator = np.sqrt((std_new**2) / n + (std_old**2) /n)\n",
    "t_stat = numerator / denominator"
   ]
  },
  {
   "cell_type": "code",
   "execution_count": 46,
   "id": "1d947773",
   "metadata": {},
   "outputs": [
    {
     "data": {
      "text/plain": [
       "-3.397230706117603"
      ]
     },
     "execution_count": 46,
     "metadata": {},
     "output_type": "execute_result"
    }
   ],
   "source": [
    "t_stat\n"
   ]
  },
  {
   "cell_type": "code",
   "execution_count": 31,
   "id": "854843b9",
   "metadata": {},
   "outputs": [],
   "source": [
    "degree_of_freedom = n+n-2"
   ]
  },
  {
   "cell_type": "code",
   "execution_count": 49,
   "id": "8f9cf77e",
   "metadata": {},
   "outputs": [
    {
     "data": {
      "text/plain": [
       "0.0016055712503872579"
      ]
     },
     "execution_count": 49,
     "metadata": {},
     "output_type": "execute_result"
    }
   ],
   "source": [
    "t.cdf(t_stat, df = degree_of_freedom)"
   ]
  },
  {
   "cell_type": "markdown",
   "id": "76c276e4",
   "metadata": {},
   "source": [
    "P value is smaller than signifiance level, we reject the null hypothesis. New machine will pack faster on the average than the old one (the average speed new < the average speed old)"
   ]
  },
  {
   "cell_type": "code",
   "execution_count": null,
   "id": "0489d607",
   "metadata": {},
   "outputs": [],
   "source": []
  }
 ],
 "metadata": {
  "kernelspec": {
   "display_name": "Python 3 (ipykernel)",
   "language": "python",
   "name": "python3"
  },
  "language_info": {
   "codemirror_mode": {
    "name": "ipython",
    "version": 3
   },
   "file_extension": ".py",
   "mimetype": "text/x-python",
   "name": "python",
   "nbconvert_exporter": "python",
   "pygments_lexer": "ipython3",
   "version": "3.9.7"
  }
 },
 "nbformat": 4,
 "nbformat_minor": 5
}
